{
 "cells": [
  {
   "cell_type": "markdown",
   "id": "c8490248-7cf4-4aa1-97f0-9ff9c04a2191",
   "metadata": {},
   "source": [
    "# CTE Calculation"
   ]
  },
  {
   "cell_type": "markdown",
   "id": "4f6b9152-cddc-4e05-a888-ca16f9218af0",
   "metadata": {},
   "source": [
    "The coefficient of thermal expansion is a material property that describes how much a material’s length changes when it’s temperature changes. The abreviation for coefficient of thermal expansion is CTE and the greek symbol alpha, $\\alpha$,    is often used for CTE in equations\n",
    "\n",
    "The formal definition of CTE is below:\n",
    "\n",
    "$$\n",
    "\\alpha = \\frac{1}{L}_i \\frac{\\Delta L}{\\Delta T}\n",
    "$$\n",
    "\n",
    "Using this understanding I will solve two problems using code.."
   ]
  },
  {
   "cell_type": "markdown",
   "id": "8fb12d72-d06e-4328-8c49-ccd4ae1a9556",
   "metadata": {},
   "source": [
    "## Problem Statement: Cooling a Cu bearing\r\n",
    "\r\n",
    "A copper bearing with a diameter of 80.10 mm at 20°C needs to fit into a hole of 80.00 mm. \r\n",
    "\r\n",
    "Assume the coefficient of thermal expansion of copper is \\( 17 \\times 10^{-6} \\, /^\\circ\\text{C} \\). \r\n",
    "\r\n",
    "**Question:** What temperature does the copper bearing need to be cooled down to in order to fit inside the hole? If clearance is required, include this in your answer.\r\n"
   ]
  },
  {
   "cell_type": "code",
   "execution_count": 4,
   "id": "4bcc5b10-a024-468b-8c26-7c006fb7adce",
   "metadata": {},
   "outputs": [],
   "source": [
    "def calculate_shrink_fit_temperature(L_i, T_i, alpha, clearance, bearing_diameter):\n",
    "    \"\"\"\n",
    "    Calculate the final temperature required to shrink a material to a target diameter for a shrink fit.\n",
    "\n",
    "    Parameters:\n",
    "    - L_i (float): Initial diameter of the material in mm.\n",
    "    - T_i (float): Initial temperature in degrees Celsius.\n",
    "    - alpha (float): Coefficient of thermal expansion in /°C.\n",
    "    - clearance (float): Desired clearance in mm.\n",
    "    - bearing_diameter (float): Diameter of the hole in mm.\n",
    "\n",
    "    Returns:\n",
    "    - tuple: (L_f, T_f)\n",
    "        - L_f (float): Final diameter required for fit in mm.\n",
    "        - T_f (float): Required final temperature in degrees Celsius.\n",
    "    \"\"\"\n",
    "    \n",
    "    # Calculate the target final diameter with clearance\n",
    "    L_f = bearing_diameter - clearance\n",
    "    \n",
    "    # Calculate the final temperature required to achieve the final diameter\n",
    "    T_f = T_i + (L_f - L_i) / (L_i * alpha)\n",
    "    \n",
    "    # Round the final temperature to 2 decimal places\n",
    "    T_f = round(T_f, 2)\n",
    "    \n",
    "    return L_f, T_f  # Return both final diameter and final temperature\n"
   ]
  },
  {
   "cell_type": "code",
   "execution_count": 5,
   "id": "cd2554e2-aea8-48a9-82bb-5cb5ce883d23",
   "metadata": {},
   "outputs": [
    {
     "name": "stdout",
     "output_type": "stream",
     "text": [
      "Final Diameter: 80.0 mm, Final Temperature: -53.44 °C\n"
     ]
    }
   ],
   "source": [
    "L_initial = 80.10  # Initial diameter in mm\n",
    "T_initial = 20     # Initial temperature in °C\n",
    "alpha = 17e-6      # Coefficient of thermal expansion in /°C\n",
    "clearance = 0.0 # Desired clearance in mm\n",
    "hole_diameter = 80.00  # Diameter of the hole in mm\n",
    "\n",
    "final_diameter, final_temperature = calculate_shrink_fit_temperature(\n",
    "    L_initial, T_initial, alpha, clearance, hole_diameter\n",
    ")\n",
    "\n",
    "print(f\"Final Diameter: {final_diameter} mm, Final Temperature: {final_temperature} °C\")\n"
   ]
  },
  {
   "cell_type": "markdown",
   "id": "e8f4149f-bd22-43fb-82b6-e98b724670b5",
   "metadata": {},
   "source": [
    "## Problem 2: Heating an Al case\n",
    "\n",
    "### Given:\n",
    "At room temperature (20 °C), a copper bearing with an outside diameter of 80.10 mm does not fit into an aluminum case with a hole diameter of 80.00 mm. In order for this to be accomplished, a furnace or hotplate can be used to heat the case.\n",
    "\n",
    "### Find:\n",
    "What temperature must the case be heated to in order for the bearing to fit in the case?\n",
    "\n",
    "### Assumptions:\n",
    "- Assume the bearing stays at room temperature.\n",
    "- If assuming a clearance, note the clearance amount as part of your solution on your answer sheet below the answer.\n",
    "- Assume the coefficient of thermal expansion of aluminum is \\( 24 \\times 10^{-6} \\, °C^{-1} \\) and the coefficient of thermal expansion of copper is \\( 17 \\times 10^{-6} \\, °C^{-1} \\).\n"
   ]
  },
  {
   "cell_type": "code",
   "execution_count": 7,
   "id": "80d409b6-7e01-4602-a15e-d9204314403c",
   "metadata": {},
   "outputs": [],
   "source": [
    "def solver(L_initial, bearing_diameter, T_initial, clearance, alpha):\n",
    "    \"\"\"\n",
    "    Calculate the final length and temperature required to achieve a specified \n",
    "    clearance in a bearing system due to thermal expansion.\n",
    "\n",
    "    Parameters:\n",
    "    L_initial (float): Initial length of the component at T_initial.\n",
    "    bearing_diameter (float): Diameter of the bearing at the initial temperature.\n",
    "    T_initial (float): Initial temperature in Celsius.\n",
    "    clearance (float): Required clearance at final temperature.\n",
    "    alpha (float): Linear thermal expansion coefficient of the material (1/°C).\n",
    "\n",
    "    Returns:\n",
    "    float: Final length (diameter + clearance).\n",
    "    float: Final temperature needed to achieve the final diameter (rounded to 2 decimals).\n",
    "    \"\"\"\n",
    "\n",
    "    # Calculate the final length required to achieve the clearance\n",
    "    L_final = bearing_diameter + clearance\n",
    "\n",
    "    # Calculate the final temperature required to reach the final diameter\n",
    "    T_final = T_initial + (L_final - L_initial) / (L_initial * alpha)\n",
    "\n",
    "    # Round the final temperature to 2 decimal places\n",
    "    T_final = round(T_final, 2)\n",
    "    \n",
    "    return L_final, T_final  # Return both final diameter and final temperature\n"
   ]
  },
  {
   "cell_type": "code",
   "execution_count": 8,
   "id": "d052e592-94c0-41f4-aa1b-00ae801db367",
   "metadata": {},
   "outputs": [
    {
     "name": "stdout",
     "output_type": "stream",
     "text": [
      "(80.11, 77.29)\n"
     ]
    }
   ],
   "source": [
    "print(solver(80.00, 80.10, 20, 0.01, 24e-6))\n"
   ]
  }
 ],
 "metadata": {
  "kernelspec": {
   "display_name": "Python 3 (ipykernel)",
   "language": "python",
   "name": "python3"
  },
  "language_info": {
   "codemirror_mode": {
    "name": "ipython",
    "version": 3
   },
   "file_extension": ".py",
   "mimetype": "text/x-python",
   "name": "python",
   "nbconvert_exporter": "python",
   "pygments_lexer": "ipython3",
   "version": "3.12.4"
  }
 },
 "nbformat": 4,
 "nbformat_minor": 5
}
