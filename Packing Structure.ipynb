{
 "cells": [
  {
   "cell_type": "markdown",
   "id": "5735847d-a81b-4bf5-8084-fac4f863a8de",
   "metadata": {},
   "source": [
    "# Packing Structure"
   ]
  },
  {
   "cell_type": "markdown",
   "id": "f49b7b76-88e0-4d81-8b45-f7e411119d0d",
   "metadata": {},
   "source": [
    "Each crystal structure has a property called packing factor. The packing factor, or 3D denisty, is the ratio of atom volume in a unit cell to the volume of the unit cell."
   ]
  },
  {
   "cell_type": "code",
   "execution_count": 3,
   "id": "0c63e3dd-add4-4674-bcec-b254fc44ad54",
   "metadata": {},
   "outputs": [],
   "source": [
    "# importing relevant libaries\n",
    "from math import pi\n",
    "from sympy import symbols, sqrt, pi"
   ]
  },
  {
   "cell_type": "code",
   "execution_count": 4,
   "id": "ca0146ac-f6b8-4195-a4c6-ffc81d5de4de",
   "metadata": {},
   "outputs": [],
   "source": [
    "# General Packing Structure expression for cubic"
   ]
  },
  {
   "cell_type": "code",
   "execution_count": 5,
   "id": "5faebd6e-8c47-44f6-a3ad-397c3762288b",
   "metadata": {},
   "outputs": [
    {
     "name": "stdout",
     "output_type": "stream",
     "text": [
      "V_atoms/V_unitcell\n",
      "V_1atom*n_atoms/V_unitcell\n",
      "1.33333333333333*pi*n_atoms*r**3/a0**3\n"
     ]
    }
   ],
   "source": [
    "a0, r, V_atoms, V_1atom, V_unitcell, n_atoms = symbols('a0, r, V_atoms, V_1atom, V_unitcell, n_atoms')\n",
    "\n",
    "PF_expression = V_atoms / V_unitcell\n",
    "print(PF_expression)\n",
    "\n",
    "PF_expression2 = PF_expression.subs(V_atoms, n_atoms * V_1atom)\n",
    "print(PF_expression2)\n",
    "\n",
    "PF_expression3 = PF_expression2.subs(V_unitcell, a0**3).subs(V_1atom, (4/3)*pi*r**3)\n",
    "print(PF_expression3)"
   ]
  },
  {
   "cell_type": "markdown",
   "id": "c84ecf9b-60b5-43db-9cda-9649cedd5f50",
   "metadata": {},
   "source": [
    "# FCC"
   ]
  },
  {
   "cell_type": "code",
   "execution_count": 7,
   "id": "4aea9484-4665-44a5-bcfd-b7f352778664",
   "metadata": {},
   "outputs": [
    {
     "data": {
      "text/latex": [
       "$\\displaystyle 0.166666666666667 \\sqrt{2} \\pi$"
      ],
      "text/plain": [
       "0.166666666666667*sqrt(2)*pi"
      ]
     },
     "execution_count": 7,
     "metadata": {},
     "output_type": "execute_result"
    }
   ],
   "source": [
    "FCC_PF = PF_expression3.subs(a0, 4*r/sqrt(2)).subs(n_atoms,4)\n",
    "FCC_PF"
   ]
  },
  {
   "cell_type": "code",
   "execution_count": 8,
   "id": "ed487f13-773c-4879-b0cf-0a90d945b1ae",
   "metadata": {},
   "outputs": [],
   "source": [
    "FCC_PF = FCC_PF.evalf()"
   ]
  },
  {
   "cell_type": "code",
   "execution_count": 9,
   "id": "6239550f-1483-4137-92a4-2529a79c4f50",
   "metadata": {},
   "outputs": [
    {
     "name": "stdout",
     "output_type": "stream",
     "text": [
      "The packing efficient of FCC is: 0.74\n"
     ]
    }
   ],
   "source": [
    "print(f\"The packing efficient of FCC is: {round(FCC_PF,2)}\")"
   ]
  },
  {
   "cell_type": "markdown",
   "id": "71b86655-f678-40d7-aa12-6d50cc87ddd2",
   "metadata": {},
   "source": [
    "# BCC"
   ]
  },
  {
   "cell_type": "code",
   "execution_count": 11,
   "id": "48bcae6f-fccb-4a33-ba77-1300bb1f7dae",
   "metadata": {},
   "outputs": [
    {
     "name": "stdout",
     "output_type": "stream",
     "text": [
      "The packing efficient of FCC is: 0.68\n"
     ]
    }
   ],
   "source": [
    "BCC_PF = PF_expression3.subs(a0, 4*r/sqrt(3)).subs(n_atoms,2).evalf()\n",
    "print(f\"The packing efficient of FCC is: {round(BCC_PF,2)}\")"
   ]
  },
  {
   "cell_type": "markdown",
   "id": "4a6cc17e-e8a0-4baa-8ad6-fff0807cd267",
   "metadata": {},
   "source": [
    "# Simple Cubic "
   ]
  },
  {
   "cell_type": "code",
   "execution_count": 35,
   "id": "6fd6f126-c347-420d-8861-0c55c6f2a045",
   "metadata": {},
   "outputs": [
    {
     "name": "stdout",
     "output_type": "stream",
     "text": [
      "The packing efficient of a Simple Cubic is: 0.52\n"
     ]
    }
   ],
   "source": [
    "simple_cubic = PF_expression3.subs(a0, 2*r).subs(n_atoms,1)\n",
    "simple_cubic\n",
    "print(f\"The packing efficient of a Simple Cubic is: {round(simple_cubic,2)}\")"
   ]
  }
 ],
 "metadata": {
  "kernelspec": {
   "display_name": "Python 3 (ipykernel)",
   "language": "python",
   "name": "python3"
  },
  "language_info": {
   "codemirror_mode": {
    "name": "ipython",
    "version": 3
   },
   "file_extension": ".py",
   "mimetype": "text/x-python",
   "name": "python",
   "nbconvert_exporter": "python",
   "pygments_lexer": "ipython3",
   "version": "3.12.4"
  }
 },
 "nbformat": 4,
 "nbformat_minor": 5
}
